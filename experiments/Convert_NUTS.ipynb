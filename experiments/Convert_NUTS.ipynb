{
 "cells": [
  {
   "cell_type": "code",
   "execution_count": 2,
   "id": "3390986a-1317-405e-8f38-6d05efee0cd8",
   "metadata": {},
   "outputs": [],
   "source": [
    "import geopandas"
   ]
  },
  {
   "cell_type": "code",
   "execution_count": 4,
   "id": "5931576f-e6a5-49a2-9c3c-3b19f6293c68",
   "metadata": {},
   "outputs": [],
   "source": [
    "nuts = geopandas.read_file('./NUTS_RG_01M_2021_3035.geojson')"
   ]
  },
  {
   "cell_type": "code",
   "execution_count": 6,
   "id": "49d8b152-91de-4aa7-b7e0-c2e02cb613f3",
   "metadata": {},
   "outputs": [],
   "source": [
    "nuts.to_csv(\"./NUTS_RG_01M_2021_3035.csv\")"
   ]
  },
  {
   "cell_type": "code",
   "execution_count": null,
   "id": "b5c81ea6-9e41-4993-98b4-1962c344b4bd",
   "metadata": {},
   "outputs": [],
   "source": []
  }
 ],
 "metadata": {
  "kernelspec": {
   "display_name": "Python 3 (ipykernel)",
   "language": "python",
   "name": "python3"
  },
  "language_info": {
   "codemirror_mode": {
    "name": "ipython",
    "version": 3
   },
   "file_extension": ".py",
   "mimetype": "text/x-python",
   "name": "python",
   "nbconvert_exporter": "python",
   "pygments_lexer": "ipython3",
   "version": "3.10.12"
  }
 },
 "nbformat": 4,
 "nbformat_minor": 5
}
